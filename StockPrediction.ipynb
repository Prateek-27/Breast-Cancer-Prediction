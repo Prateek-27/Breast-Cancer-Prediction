{
  "nbformat": 4,
  "nbformat_minor": 0,
  "metadata": {
    "colab": {
      "name": "StockPrediction.ipynb",
      "provenance": [],
      "collapsed_sections": [],
      "authorship_tag": "ABX9TyNUPtIQCe6QpsCbUFyIwOrd",
      "include_colab_link": true
    },
    "kernelspec": {
      "name": "python3",
      "display_name": "Python 3"
    }
  },
  "cells": [
    {
      "cell_type": "markdown",
      "metadata": {
        "id": "view-in-github",
        "colab_type": "text"
      },
      "source": [
        "<a href=\"https://colab.research.google.com/github/Prateek-27/Breast-Cancer-Prediction/blob/master/StockPrediction.ipynb\" target=\"_parent\"><img src=\"https://colab.research.google.com/assets/colab-badge.svg\" alt=\"Open In Colab\"/></a>"
      ]
    },
    {
      "cell_type": "markdown",
      "metadata": {
        "id": "NT-BFP0MVEJt"
      },
      "source": [
        "# Stock Market Prediction using Numerical and Textual Analysis\r\n",
        "Author: Prateek Sengar\r\n"
      ]
    },
    {
      "cell_type": "markdown",
      "metadata": {
        "id": "01XXqLNIVbGZ"
      },
      "source": [
        "Task assigned by The Sparks Foundation for my internship in Data Science & Business Analytics.  "
      ]
    },
    {
      "cell_type": "markdown",
      "metadata": {
        "id": "Ntzn5As5Wsvk"
      },
      "source": [
        "Importing all the required libraries "
      ]
    },
    {
      "cell_type": "code",
      "metadata": {
        "id": "cp2Z3jhdVA1_"
      },
      "source": [
        "import pandas as pd\r\n",
        "import numpy as np\r\n",
        "\r\n",
        "import matplotlib.pyplot as plt\r\n",
        "from matplotlib import pylab\r\n",
        "\r\n",
        "from textblob import TextBlob\r\n",
        "\r\n",
        "from sklearn.model_selection import train_test_split\r\n",
        "from sklearn.preprocessing import StandardScaler\r\n",
        "from sklearn.linear_model import SGDRegressor\r\n",
        "from sklearn.ensemble import RandomForestRegressor\r\n",
        "from sklearn import metrics\r\n"
      ],
      "execution_count": null,
      "outputs": []
    },
    {
      "cell_type": "markdown",
      "metadata": {
        "id": "HTKYtkJZXIL8"
      },
      "source": [
        "# Loading data"
      ]
    },
    {
      "cell_type": "code",
      "metadata": {
        "colab": {
          "base_uri": "https://localhost:8080/"
        },
        "id": "veYXKa_9XGDb",
        "outputId": "72d0341f-34fb-4c9a-8285-e1578f128342"
      },
      "source": [
        "from google.colab import drive \r\n",
        "drive.mount('/content/gdrive')\r\n",
        "\r\n",
        "#Headlines data\r\n",
        "file_path = 'gdrive/My Drive/Colab Notebooks/india-news-headlines.csv'\r\n",
        "headlines_data = pd.read_csv(file_path)\r\n",
        "\r\n",
        "\r\n",
        "#TCS stock data\r\n",
        "file_path = 'gdrive/My Drive/Colab Notebooks/TCS.csv'\r\n",
        "stock_data = pd.read_csv(file_path)\r\n",
        "\r\n",
        "\r\n",
        " "
      ],
      "execution_count": null,
      "outputs": [
        {
          "output_type": "stream",
          "text": [
            "Mounted at /content/gdrive\n"
          ],
          "name": "stdout"
        }
      ]
    },
    {
      "cell_type": "code",
      "metadata": {
        "colab": {
          "base_uri": "https://localhost:8080/"
        },
        "id": "imLgcWNXYtO2",
        "outputId": "a075c9de-ab95-4f07-9d5d-5d9064345680"
      },
      "source": [
        "print(headlines_data.head(5))\r\n",
        "print(stock_data.head(5))\r\n",
        "\r\n",
        "print(\"Missing values: \")\r\n",
        "print(\"Is there any missing values in the headlines dataset? \",headlines_data.isnull().values.any())\r\n",
        "print(\"Is there any missing values in the stock dataset? \", stock_data.isnull().values.any())"
      ],
      "execution_count": null,
      "outputs": [
        {
          "output_type": "stream",
          "text": [
            "   publish_date  ...                                      headline_text\n",
            "0      20010101  ...  win over cena satisfying but defeating underta...\n",
            "1      20010102  ...  Status quo will not be disturbed at Ayodhya; s...\n",
            "2      20010102  ...                Fissures in Hurriyat over Pak visit\n",
            "3      20010102  ...              America's unwanted heading for India?\n",
            "4      20010102  ...                 For bigwigs; it is destination Goa\n",
            "\n",
            "[5 rows x 3 columns]\n",
            "         Date Symbol Series  ...  Trades  Deliverable Volume  %Deliverble\n",
            "0  2004-08-25    TCS     EQ  ...     NaN             5206360       0.3042\n",
            "1  2004-08-26    TCS     EQ  ...     NaN             1294899       0.2561\n",
            "2  2004-08-27    TCS     EQ  ...     NaN              976527       0.2549\n",
            "3  2004-08-30    TCS     EQ  ...     NaN              701664       0.2294\n",
            "4  2004-08-31    TCS     EQ  ...     NaN              695234       0.2624\n",
            "\n",
            "[5 rows x 15 columns]\n",
            "Missing values: \n",
            "Is there any missing values in the headlines dataset?  False\n",
            "Is there any missing values in the stock dataset?  True\n"
          ],
          "name": "stdout"
        }
      ]
    },
    {
      "cell_type": "code",
      "metadata": {
        "id": "UzYqFVn4lGoD"
      },
      "source": [
        "stock_data = stock_data[['Date', 'Open', 'High', 'Low', 'Close', 'Volume', 'Trades']]"
      ],
      "execution_count": null,
      "outputs": []
    },
    {
      "cell_type": "code",
      "metadata": {
        "colab": {
          "base_uri": "https://localhost:8080/"
        },
        "id": "hw8ZByv8lu4S",
        "outputId": "496fc6f3-f02f-4d99-f629-366359f2e6af"
      },
      "source": [
        "print(stock_data)"
      ],
      "execution_count": null,
      "outputs": [
        {
          "output_type": "stream",
          "text": [
            "            Date    Open     High      Low    Close    Volume    Trades\n",
            "0     2004-08-25  1198.7  1198.70   979.00   987.95  17116372       NaN\n",
            "1     2004-08-26   992.0   997.00   975.30   979.00   5055400       NaN\n",
            "2     2004-08-27   982.4   982.40   958.55   962.65   3830750       NaN\n",
            "3     2004-08-30   969.9   990.00   965.00   986.75   3058151       NaN\n",
            "4     2004-08-31   986.5   990.00   976.00   988.10   2649332       NaN\n",
            "...          ...     ...      ...      ...      ...       ...       ...\n",
            "4032  2020-11-23  2690.0  2730.00  2665.00  2724.25   3706418  150378.0\n",
            "4033  2020-11-24  2734.4  2743.00  2705.00  2722.05   3120516  148092.0\n",
            "4034  2020-11-25  2729.0  2732.95  2688.20  2701.30   3302249  163422.0\n",
            "4035  2020-11-26  2686.0  2730.95  2680.00  2720.60   2341099  103635.0\n",
            "4036  2020-11-27  2705.0  2717.70  2669.05  2679.65   6086808  168842.0\n",
            "\n",
            "[4037 rows x 7 columns]\n"
          ],
          "name": "stdout"
        }
      ]
    },
    {
      "cell_type": "markdown",
      "metadata": {
        "id": "Mot3PLUUdMhE"
      },
      "source": [
        "# Dealing with missing values in the stock dataset (Preprocessing)\r\n"
      ]
    },
    {
      "cell_type": "code",
      "metadata": {
        "colab": {
          "base_uri": "https://localhost:8080/"
        },
        "id": "0OWTO4dYbFrX",
        "outputId": "191a400e-b894-415d-9bdd-c55752988994"
      },
      "source": [
        "# Checking columns with missing data \r\n",
        "print(stock_data.isna().sum())\r\n",
        "print(\"Number of missing values in stock dataset = \", stock_data.isnull().values.sum())\r\n",
        "\r\n",
        "# Filling the Trades column's missing values with the mean value\r\n",
        "stock_data['Trades'].fillna((stock_data[\"Trades\"].mean()), inplace = True)\r\n",
        "\r\n"
      ],
      "execution_count": null,
      "outputs": [
        {
          "output_type": "stream",
          "text": [
            "Date         0\n",
            "Open         0\n",
            "High         0\n",
            "Low          0\n",
            "Close        0\n",
            "Volume       0\n",
            "Trades    1683\n",
            "dtype: int64\n",
            "Number of missing values in stock dataset =  1683\n"
          ],
          "name": "stdout"
        }
      ]
    },
    {
      "cell_type": "code",
      "metadata": {
        "colab": {
          "base_uri": "https://localhost:8080/"
        },
        "id": "uX2aWmlUeFU1",
        "outputId": "919ebf23-7717-4a6b-f946-8d42da76e23d"
      },
      "source": [
        "# Checking again for columns with missing data \r\n",
        "print(stock_data.isna().sum())\r\n",
        "print(\"Number of missing values in stock dataset = \", stock_data.isnull().values.sum())\r\n"
      ],
      "execution_count": null,
      "outputs": [
        {
          "output_type": "stream",
          "text": [
            "Date      0\n",
            "Open      0\n",
            "High      0\n",
            "Low       0\n",
            "Close     0\n",
            "Volume    0\n",
            "Trades    0\n",
            "dtype: int64\n",
            "Number of missing values in stock dataset =  0\n"
          ],
          "name": "stdout"
        }
      ]
    },
    {
      "cell_type": "markdown",
      "metadata": {
        "id": "nBckto_Fedib"
      },
      "source": [
        "# Plotting the graph for visual representation of how the stock performed over the years"
      ]
    },
    {
      "cell_type": "code",
      "metadata": {
        "colab": {
          "base_uri": "https://localhost:8080/",
          "height": 638
        },
        "id": "MfnWPJ2xZAND",
        "outputId": "bb09e8ab-07c6-4b3c-fb57-ca1f93d6debd"
      },
      "source": [
        "plt.figure(figsize=(10,10))\r\n",
        "stock_data.index = pd.to_datetime(stock_data['Date'], format='%Y-%m-%d')\r\n",
        "plt.plot(stock_data.index, stock_data['Close'])\r\n",
        "plt.xlabel(\"date\")\r\n",
        "plt.ylabel(\"$ price\")\r\n",
        "plt.title(\"TCS Stock Price 2004 - 2020\")"
      ],
      "execution_count": null,
      "outputs": [
        {
          "output_type": "execute_result",
          "data": {
            "text/plain": [
              "Text(0.5, 1.0, 'TCS Stock Price 2004 - 2020')"
            ]
          },
          "metadata": {
            "tags": []
          },
          "execution_count": 8
        },
        {
          "output_type": "display_data",
          "data": {
            "image/png": "[encoded data removed]",
            "text/plain": [
              "<Figure size 720x720 with 1 Axes>"
            ]
          },
          "metadata": {
            "tags": [],
            "needs_background": "light"
          }
        }
      ]
    },
    {
      "cell_type": "markdown",
      "metadata": {
        "id": "nHoIWc-9gaiW"
      },
      "source": [
        "# Sentiment Analysis"
      ]
    },
    {
      "cell_type": "markdown",
      "metadata": {
        "id": "ZFdw7Yt0Q2SW"
      },
      "source": [
        "Calculating polarity scores according to the dates"
      ]
    },
    {
      "cell_type": "code",
      "metadata": {
        "id": "H_8cr_gCQF3M"
      },
      "source": [
        "def polarity_scores(text):\r\n",
        "  blob = TextBlob(text)\r\n",
        "  return blob.sentiment.polarity"
      ],
      "execution_count": null,
      "outputs": []
    },
    {
      "cell_type": "code",
      "metadata": {
        "id": "R7zbBscSMa8O"
      },
      "source": [
        "dates = headlines_data.publish_date.unique()\r\n",
        "\r\n",
        "dates_stock_data = stock_data.Date\r\n",
        "#print(dates_stock_data)\r\n",
        "polarity_scores_lst = []\r\n",
        "dates_lst = []\r\n",
        "\r\n",
        "for date in dates:\r\n",
        "  date_for_lst = str(date)[:4]+\"-\"+str(date)[4:6]+\"-\"+str(date)[6:8]\r\n",
        "  if date_for_lst in dates_stock_data:\r\n",
        "    dates_lst.append(date_for_lst)\r\n",
        "    df = pd.DataFrame(headlines_data.loc[headlines_data['publish_date'] == date, 'headline_text'])\r\n",
        "    headlines = \"\"\r\n",
        "    for index, row in df.iterrows():\r\n",
        "      headlines+=row['headline_text']+\", \"\r\n",
        "    score = polarity_scores(headlines)\r\n",
        "    polarity_scores_lst.append(score) "
      ],
      "execution_count": null,
      "outputs": []
    },
    {
      "cell_type": "code",
      "metadata": {
        "colab": {
          "base_uri": "https://localhost:8080/"
        },
        "id": "xaSJpOe-g_Do",
        "outputId": "7a970d30-b1e1-4e5a-d04c-fe972bad19e8"
      },
      "source": [
        "new_dataset = pd.DataFrame()\r\n",
        "new_dataset['Date'] = dates_lst\r\n",
        "new_dataset['Polarity_score'] = polarity_scores_lst\r\n",
        "print(new_dataset.head())\r\n",
        "print(new_dataset.shape)\r\n"
      ],
      "execution_count": null,
      "outputs": [
        {
          "output_type": "stream",
          "text": [
            "         Date  Polarity_score\n",
            "0  2004-08-25        0.041413\n",
            "1  2004-08-26        0.055488\n",
            "2  2004-08-27        0.073013\n",
            "3  2004-08-30        0.093129\n",
            "4  2004-08-31        0.078962\n",
            "(3930, 2)\n"
          ],
          "name": "stdout"
        }
      ]
    },
    {
      "cell_type": "code",
      "metadata": {
        "id": "AMxJYpcZj2sG"
      },
      "source": [
        "stock_data.index.name = None\r\n",
        "stock_data = stock_data.rename_axis(None)"
      ],
      "execution_count": null,
      "outputs": []
    },
    {
      "cell_type": "markdown",
      "metadata": {
        "id": "AIcDdqFgnGuF"
      },
      "source": [
        "Final Dataset"
      ]
    },
    {
      "cell_type": "code",
      "metadata": {
        "colab": {
          "base_uri": "https://localhost:8080/"
        },
        "id": "QPcRTMUYkZF9",
        "outputId": "4e373b4e-4be2-4cea-ab24-95f59f5cca11"
      },
      "source": [
        "df = pd.merge(new_dataset, stock_data, on='Date', how='left')\r\n",
        "df['Date'] = pd.to_datetime(df['Date'])\r\n",
        "print(df)"
      ],
      "execution_count": null,
      "outputs": [
        {
          "output_type": "stream",
          "text": [
            "           Date  Polarity_score    Open  ...    Close    Volume         Trades\n",
            "0    2004-08-25        0.041413  1198.7  ...   987.95  17116372   82412.390399\n",
            "1    2004-08-26        0.055488   992.0  ...   979.00   5055400   82412.390399\n",
            "2    2004-08-27        0.073013   982.4  ...   962.65   3830750   82412.390399\n",
            "3    2004-08-30        0.093129   969.9  ...   986.75   3058151   82412.390399\n",
            "4    2004-08-31        0.078962   986.5  ...   988.10   2649332   82412.390399\n",
            "...         ...             ...     ...  ...      ...       ...            ...\n",
            "3925 2020-06-24        0.088329  2034.0  ...  2042.20   2560951  125500.000000\n",
            "3926 2020-06-25        0.027038  2035.0  ...  2016.10   3044089  127554.000000\n",
            "3927 2020-06-26        0.068333  2025.0  ...  2118.85   6300912  237429.000000\n",
            "3928 2020-06-29        0.061956  2108.0  ...  2101.65   3076344  109993.000000\n",
            "3929 2020-06-30        0.071554  2100.0  ...  2082.15   3071877  121691.000000\n",
            "\n",
            "[3930 rows x 8 columns]\n"
          ],
          "name": "stdout"
        }
      ]
    },
    {
      "cell_type": "markdown",
      "metadata": {
        "id": "eo2thPfQX2nk"
      },
      "source": [
        "# Prediction"
      ]
    },
    {
      "cell_type": "markdown",
      "metadata": {
        "id": "kcRtYlumnJ6v"
      },
      "source": [
        "Creating Prediction models"
      ]
    },
    {
      "cell_type": "code",
      "metadata": {
        "id": "tzYy60ssnZJv"
      },
      "source": [
        "#Split the data into independent 'X' and dependent 'Y' variables\r\n",
        "df_new = df.drop('Date', axis=1)\r\n",
        "\r\n",
        "X = df_new.loc[:, df_new.columns != 'Close'].values\r\n",
        "Y = df_new.iloc[:, 4].values \r\n"
      ],
      "execution_count": null,
      "outputs": []
    },
    {
      "cell_type": "markdown",
      "metadata": {
        "id": "4kjFgsWde9iY"
      },
      "source": [
        "Note: We will consider the close price of the stock as our target variable as the profit and loss calculations are determined by the close price. "
      ]
    },
    {
      "cell_type": "code",
      "metadata": {
        "id": "4bjAPzWTp4V8"
      },
      "source": [
        "# Split the dataset into 75% Training set and 25% Testing set\r\n",
        "X_train, X_test, Y_train, Y_test = train_test_split(X, Y, test_size = 0.25, random_state = 0)"
      ],
      "execution_count": null,
      "outputs": []
    },
    {
      "cell_type": "code",
      "metadata": {
        "id": "TnHdoAK0p990"
      },
      "source": [
        "#Sclaing (used to normalize the range of independent variables) data\r\n",
        "sc = StandardScaler()\r\n",
        "X_train = sc.fit_transform(X_train)\r\n",
        "X_test = sc.transform(X_test)\r\n"
      ],
      "execution_count": null,
      "outputs": []
    },
    {
      "cell_type": "code",
      "metadata": {
        "id": "FefvvAHsuw3-"
      },
      "source": [
        "#Create a function within many Machine Learning Models\r\n",
        "def models(X_train,Y_train):\r\n",
        "  \r\n",
        "  #Using SGDRegressor for Training \r\n",
        "  sgd = SGDRegressor()\r\n",
        "  sgd.fit(X_train, Y_train)\r\n",
        "\r\n",
        "  #Using RandomForestRegressor Training \r\n",
        "  rfr = RandomForestRegressor()\r\n",
        "  rfr.fit(X_train, Y_train)\r\n",
        "  \r\n",
        "  return sgd, rfr\r\n",
        "\r\n",
        "model = models(X_train,Y_train)"
      ],
      "execution_count": null,
      "outputs": []
    },
    {
      "cell_type": "code",
      "metadata": {
        "colab": {
          "base_uri": "https://localhost:8080/"
        },
        "id": "8DAdVgP6sT6H",
        "outputId": "4410d57d-8868-4be9-a38a-7cc1306604a3"
      },
      "source": [
        "#Prediction using SGDRegressor\r\n",
        "Y_pred = model[0].predict(X_test)\r\n",
        "print(\"Accuracy of SGDRegressor:\",model[0].score(X_test, Y_test))"
      ],
      "execution_count": null,
      "outputs": [
        {
          "output_type": "stream",
          "text": [
            "\n",
            "Accuracy of SGDRegressor: 0.9994024493842146\n"
          ],
          "name": "stdout"
        }
      ]
    },
    {
      "cell_type": "code",
      "metadata": {
        "colab": {
          "base_uri": "https://localhost:8080/"
        },
        "id": "leI-I0yy0CNB",
        "outputId": "3a2d335a-d674-4b71-bdb3-ab583a68b271"
      },
      "source": [
        "#Prediction using RandomForestRegressor\r\n",
        "Y_pred = model[1].predict(X_test)\r\n",
        "print(\"Accuracy of RandomForestRegressor:\",model[1].score(X_test, Y_test))"
      ],
      "execution_count": null,
      "outputs": [
        {
          "output_type": "stream",
          "text": [
            "\n",
            "Accuracy of RandomForestRegressor: 0.9995810951434956\n"
          ],
          "name": "stdout"
        }
      ]
    },
    {
      "cell_type": "code",
      "metadata": {
        "colab": {
          "base_uri": "https://localhost:8080/"
        },
        "id": "Kd5f25yDabx_",
        "outputId": "9d0dd80f-ae08-402c-b903-0062133e9a7b"
      },
      "source": [
        "print(\"First 20 predictions on the test data: \")\r\n",
        "print(Y_pred[:20])"
      ],
      "execution_count": null,
      "outputs": [
        {
          "output_type": "stream",
          "text": [
            "First 20 predictions on the test data: \n",
            "[1052.4815  481.017  1176.51   1217.459  1826.77   2578.9755  859.7695\n",
            " 2548.1645 1976.425  1233.559  2345.175  2506.7595  472.5415 2581.3095\n",
            " 1308.117  1258.7375 2597.2475  963.1375 2252.6925 2214.6145]\n"
          ],
          "name": "stdout"
        }
      ]
    },
    {
      "cell_type": "code",
      "metadata": {
        "colab": {
          "base_uri": "https://localhost:8080/",
          "height": 612
        },
        "id": "qdHLb91awO3s",
        "outputId": "d8ab2ced-a13c-4dcc-9f6d-eb6b7132f478"
      },
      "source": [
        "Y_pred = model[1].predict(X_test)\r\n",
        "fig = plt.figure(figsize=(10,10))\r\n",
        "plt.title('Actual vs Predicted Values')\r\n",
        "plt.plot(Y_pred[:20],'g*', Y_test[:20], 'ro')\r\n",
        "\r\n",
        "frame = pylab.gca()\r\n",
        "frame.axes.get_xaxis().set_ticks([])\r\n",
        "frame.axes.get_yaxis().set_ticks([])\r\n"
      ],
      "execution_count": null,
      "outputs": [
        {
          "output_type": "execute_result",
          "data": {
            "text/plain": [
              "[]"
            ]
          },
          "metadata": {
            "tags": []
          },
          "execution_count": 28
        },
        {
          "output_type": "display_data",
          "data": {
            "image/png": "[encoded data removed]",
            "text/plain": [
              "<Figure size 720x720 with 1 Axes>"
            ]
          },
          "metadata": {
            "tags": []
          }
        }
      ]
    }
  ]
}